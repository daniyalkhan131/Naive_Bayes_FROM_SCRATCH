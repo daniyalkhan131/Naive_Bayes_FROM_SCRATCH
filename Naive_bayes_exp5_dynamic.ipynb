{
 "cells": [
  {
   "cell_type": "code",
   "execution_count": 1,
   "metadata": {},
   "outputs": [
    {
     "name": "stdout",
     "output_type": "stream",
     "text": [
      "['Rainy,Hot,High,false,no', 'Rainy,Hot,High,true,no', 'Overcast,Hot,High,false,yes', 'Sunny,Mild,High,false,yes', 'Sunny,Cool,Normal,false,yes', 'Sunny,Cool,Normal,true,no', 'Overcast,Cool,Normal,true,yes', 'Rainy,Mild,High,false,no', 'Rainy,Cool,Normal,false,yes', 'Sunny,Mild,Normal,false,yes', 'Rainy,Mild,Normal,true,yes', 'Overcast,Mild,High,true,yes', 'Overcast,Hot,Normal,false,yes', 'Sunny,Mild,High,true,no', 'Overcast,Cool,High,false,no']\n",
      "\n",
      " [['Rainy', 'Hot', 'High', 'false', 'no'], ['Rainy', 'Hot', 'High', 'true', 'no'], ['Overcast', 'Hot', 'High', 'false', 'yes'], ['Sunny', 'Mild', 'High', 'false', 'yes'], ['Sunny', 'Cool', 'Normal', 'false', 'yes'], ['Sunny', 'Cool', 'Normal', 'true', 'no'], ['Overcast', 'Cool', 'Normal', 'true', 'yes'], ['Rainy', 'Mild', 'High', 'false', 'no'], ['Rainy', 'Cool', 'Normal', 'false', 'yes'], ['Sunny', 'Mild', 'Normal', 'false', 'yes'], ['Rainy', 'Mild', 'Normal', 'true', 'yes'], ['Overcast', 'Mild', 'High', 'true', 'yes'], ['Overcast', 'Hot', 'Normal', 'false', 'yes'], ['Sunny', 'Mild', 'High', 'true', 'no'], ['Overcast', 'Cool', 'High', 'false', 'no']]\n",
      "\n",
      " [['Rainy', 'Rainy', 'Overcast', 'Sunny', 'Sunny', 'Sunny', 'Overcast', 'Rainy', 'Rainy', 'Sunny', 'Rainy', 'Overcast', 'Overcast', 'Sunny', 'Overcast'], ['Hot', 'Hot', 'Hot', 'Mild', 'Cool', 'Cool', 'Cool', 'Mild', 'Cool', 'Mild', 'Mild', 'Mild', 'Hot', 'Mild', 'Cool'], ['High', 'High', 'High', 'High', 'Normal', 'Normal', 'Normal', 'High', 'Normal', 'Normal', 'Normal', 'High', 'Normal', 'High', 'High'], ['false', 'true', 'false', 'false', 'false', 'true', 'true', 'false', 'false', 'false', 'true', 'true', 'false', 'true', 'false'], ['no', 'no', 'yes', 'yes', 'yes', 'no', 'yes', 'no', 'yes', 'yes', 'yes', 'yes', 'yes', 'no', 'no']]\n",
      "\n",
      " [['Sunny', 'Rainy', 'Overcast'], ['Cool', 'Mild', 'Hot'], ['Normal', 'High'], ['true', 'false'], ['yes', 'no']]\n",
      "\n",
      " {'yes': 9, 'no': 6}\n"
     ]
    }
   ],
   "source": [
    "file=open(\"D:\\JMI\\Data Analytics\\Lab\\weather_exp5.txt\",'r')\n",
    "dataset=file.read().split(\"\\n\")\n",
    "print(dataset)\n",
    "ds=list()\n",
    "for i in dataset:\n",
    "    temp=i.split(\",\")\n",
    "    ds.append(temp)\n",
    "print('\\n',ds)\n",
    "l=list()\n",
    "for k in range(len(ds[0])):\n",
    "    ll=list()\n",
    "    for i in ds:\n",
    "        ll.append(i[k])\n",
    "    l.append(ll)\n",
    "print('\\n',l)\n",
    "def values(l):\n",
    "    return list(set(l))\n",
    "l_values=list()\n",
    "for i in l:\n",
    "    l_values.append(values(i))\n",
    "print('\\n',l_values)\n",
    "def freq_count(l_values_sub,l_sub):\n",
    "    dic1=dict()\n",
    "    for i in l_values_sub:\n",
    "        c=0\n",
    "        for j in l_sub:\n",
    "            if i==j:\n",
    "                c=c+1\n",
    "        dic1[i]=c\n",
    "    return dic1\n",
    "        \n",
    "count_label=freq_count(l_values[-1],l[-1])\n",
    "print('\\n',count_label)\n"
   ]
  },
  {
   "cell_type": "code",
   "execution_count": 2,
   "metadata": {},
   "outputs": [
    {
     "name": "stdout",
     "output_type": "stream",
     "text": [
      "{'yes': 0.6, 'no': 0.4}\n"
     ]
    }
   ],
   "source": [
    "def prob_PH(dic):\n",
    "    total=0\n",
    "    dic1={}\n",
    "    for i in dic:\n",
    "        total=total+dic[i]\n",
    "    for i in dic:\n",
    "        p=dic[i]/total\n",
    "        dic1[i]=p\n",
    "    return dic1\n",
    "        \n",
    "pp=prob_PH(count_label)\n",
    "print(pp)\n",
    "\n",
    "def prob_PXgivenH(u,l_values,l):\n",
    "    for i in l_values:\n",
    "        for j in i:\n",
    "            if j==u:\n",
    "                i1=l_values.index(i)\n",
    "                i2=i.index(j)\n",
    "    dic={}\n",
    "    count_like=list()\n",
    "    #for i,j in zip(l[i1],l[-1]):\n",
    "    #    if u==i and j=='yes':\n",
    "    #        cc1+=1\n",
    "    #for i,j in zip(l[i1],l[-1]):\n",
    "    #    if u==i and j=='no':\n",
    "    #        cc2+=1\n",
    "    for k in count_label:\n",
    "        cc=0\n",
    "        for i,j in zip(l[i1],l[-1]):\n",
    "            if u==i and j==k:\n",
    "                cc+=1\n",
    "        count_like.append(cc)\n",
    "    print('\\n',count_like)\n",
    "    \n",
    "    #count yes no\n",
    "    diccc=freq_count(l_values[-1],l[-1])\n",
    "    count_oflabel=list()\n",
    "    for i in diccc:\n",
    "        ctt=0\n",
    "        for j in l[-1]:\n",
    "            if j==i:\n",
    "                ctt+=1\n",
    "        count_oflabel.append(ctt)\n",
    "    \n",
    "    #prob\n",
    "    #py=cc1/cy\n",
    "    #pn=cc2/cn\n",
    "    prob_ofconditn=list()\n",
    "    for i in range(len(count_oflabel)):\n",
    "        prob_ofconditn.append(count_like[i]/count_oflabel[i])\n",
    "    opp=0\n",
    "    for i in diccc:\n",
    "        dic[u+i]=prob_ofconditn[opp]\n",
    "        opp+=1\n",
    "    #dic[u+'yes']=py\n",
    "    #dic[u+'no']=pn\n",
    "    return dic\n",
    "    "
   ]
  },
  {
   "cell_type": "code",
   "execution_count": 3,
   "metadata": {},
   "outputs": [
    {
     "name": "stdout",
     "output_type": "stream",
     "text": [
      "\n",
      " [3, 2]\n",
      "{'Coolyes': 0.3333333333333333, 'Coolno': 0.3333333333333333}\n"
     ]
    }
   ],
   "source": [
    "a1=prob_PXgivenH('Cool',l_values,l)\n",
    "print(a1)"
   ]
  },
  {
   "cell_type": "code",
   "execution_count": 4,
   "metadata": {},
   "outputs": [],
   "source": [
    "x=['Sunny','Hot','Normal','true']"
   ]
  },
  {
   "cell_type": "code",
   "execution_count": 5,
   "metadata": {},
   "outputs": [
    {
     "name": "stdout",
     "output_type": "stream",
     "text": [
      "\n",
      " [3, 2]\n",
      "\n",
      " [2, 2]\n",
      "\n",
      " [6, 1]\n",
      "\n",
      " [3, 3]\n",
      "\n",
      " [{'Sunnyyes': 0.3333333333333333, 'Sunnyno': 0.3333333333333333}, {'Hotyes': 0.2222222222222222, 'Hotno': 0.3333333333333333}, {'Normalyes': 0.6666666666666666, 'Normalno': 0.16666666666666666}, {'trueyes': 0.3333333333333333, 'trueno': 0.5}]\n"
     ]
    }
   ],
   "source": [
    "list_of_prob=list()\n",
    "for i in range(len(x)):\n",
    "    list_of_prob.append(prob_PXgivenH(x[i],l_values,l))\n",
    "print('\\n',list_of_prob)"
   ]
  },
  {
   "cell_type": "code",
   "execution_count": 6,
   "metadata": {},
   "outputs": [
    {
     "name": "stdout",
     "output_type": "stream",
     "text": [
      "[0.016460905349794237, 0.009259259259259259]\n"
     ]
    }
   ],
   "source": [
    "p_list=list()\n",
    "for k in count_label:\n",
    "    ppp=1\n",
    "    for i in range(len(list_of_prob)):\n",
    "        ppp=ppp*(list_of_prob[i][x[i]+k])\n",
    "    p_list.append(ppp)\n",
    "print(p_list)"
   ]
  },
  {
   "cell_type": "code",
   "execution_count": 7,
   "metadata": {},
   "outputs": [
    {
     "name": "stdout",
     "output_type": "stream",
     "text": [
      "[0.009876543209876541, 0.003703703703703704]\n"
     ]
    }
   ],
   "source": [
    "total_p=list()\n",
    "ipp=0\n",
    "for k in count_label:\n",
    "    total_p.append(p_list[ipp]*pp[k])\n",
    "    ipp+=1\n",
    "\n",
    "print(total_p)"
   ]
  },
  {
   "cell_type": "code",
   "execution_count": 8,
   "metadata": {},
   "outputs": [],
   "source": [
    "def Sorting(count_label_keylist,total_p):\n",
    "    for i in range(len(total_p)-1):\n",
    "        for j in range(len(total_p)-1-i):\n",
    "            if(total_p[j]>total_p[j+1]):\n",
    "                total_p[j],total_p[j+1]=total_p[j+1],total_p[j]\n",
    "                count_label_keylist[j],count_label_keylist[j+1]=count_label_keylist[j+1],count_label_keylist[j]\n",
    "\n"
   ]
  },
  {
   "cell_type": "code",
   "execution_count": 9,
   "metadata": {},
   "outputs": [
    {
     "name": "stdout",
     "output_type": "stream",
     "text": [
      "['no', 'yes'] [0.003703703703703704, 0.009876543209876541]\n",
      "x belongs to class yes\n"
     ]
    }
   ],
   "source": [
    "count_label_keylist=[*count_label]   #for making a list of keys of dictionary\n",
    "Sorting(count_label_keylist,total_p)\n",
    "\n",
    "print(count_label_keylist,total_p)\n",
    "\n",
    "print(\"x belongs to class\",count_label_keylist[-1])"
   ]
  },
  {
   "cell_type": "code",
   "execution_count": null,
   "metadata": {},
   "outputs": [],
   "source": []
  }
 ],
 "metadata": {
  "kernelspec": {
   "display_name": "Python 3",
   "language": "python",
   "name": "python3"
  },
  "language_info": {
   "codemirror_mode": {
    "name": "ipython",
    "version": 3
   },
   "file_extension": ".py",
   "mimetype": "text/x-python",
   "name": "python",
   "nbconvert_exporter": "python",
   "pygments_lexer": "ipython3",
   "version": "3.8.3"
  }
 },
 "nbformat": 4,
 "nbformat_minor": 4
}
